{
 "cells": [
  {
   "cell_type": "code",
   "execution_count": 5,
   "metadata": {},
   "outputs": [],
   "source": [
    "import numpy as np\n",
    "import pandas as pd\n",
    "import warnings\n",
    "warnings.simplefilter('ignore')\n"
   ]
  },
  {
   "cell_type": "code",
   "execution_count": 61,
   "metadata": {},
   "outputs": [
    {
     "name": "stdout",
     "output_type": "stream",
     "text": [
      " ’®¬ ў гбва®©бвўҐ C ­Ґ Ё¬ҐҐв ¬ҐвЄЁ.\n",
      " ‘ҐаЁ©­л© ­®¬Ґа в®¬ : 0038-86C4\n",
      "\n",
      " ‘®¤Ґа¦Ё¬®Ґ Ї ЇЄЁ C:\\Users\\deleparskiy\\Big_Data\\3. ‚Ё§г «Ё§ жЁп\n",
      "\n",
      "16.10.2018  15:47    <DIR>          .\n",
      "16.10.2018  15:47    <DIR>          ..\n",
      "15.10.2018  14:07    <DIR>          .ipynb_checkpoints\n",
      "21.06.2018  13:53           552я037 0_€­д®а¬ жЁп.pdf\n",
      "15.10.2018  17:15         2я310я736 3_Data_Visualisation_in_Python.ipynb\n",
      "16.10.2018  14:21    <DIR>          babynames\n",
      "21.05.2018  00:24            10я685 cars.csv\n",
      "21.05.2018  00:25             2я934 crimeRatesByState2005.tsv\n",
      "21.05.2018  00:25         2я367я963 flights.csv\n",
      "10.10.2018  17:44    <DIR>          homework\n",
      "21.05.2018  00:24            14я037 homework-20180409T202335Z-001.zip\n",
      "21.05.2018  00:24           625я272 lecture_03_vis.pdf\n",
      "16.10.2018  15:47            15я598 MyHomeWork.ipynb\n",
      "21.05.2018  00:24             4я992 nba.csv\n",
      "21.05.2018  00:24           719я074 pics.zip\n",
      "21.05.2018  00:24               523 populations.txt\n",
      "09.10.2018  17:39         2я497я472 [slivysklad.com] 3_Data_Visualisation_in_Python.ipynb\n",
      "              12 д ©«®ў      9я121я323 Ў ©в\n",
      "               5 Ї Ї®Є  410я802я417я664 Ў ©в бў®Ў®¤­®\n"
     ]
    }
   ],
   "source": [
    "!dir\n"
   ]
  },
  {
   "cell_type": "code",
   "execution_count": null,
   "metadata": {},
   "outputs": [],
   "source": []
  },
  {
   "cell_type": "code",
   "execution_count": 42,
   "metadata": {},
   "outputs": [
    {
     "data": {
      "text/plain": [
       "<bound method DataFrame.info of             name gender  number  year\n",
       "0           Mary      F    7065  1880\n",
       "1           Anna      F    2604  1880\n",
       "2           Emma      F    2003  1880\n",
       "3      Elizabeth      F    1939  1880\n",
       "4         Minnie      F    1746  1880\n",
       "5       Margaret      F    1578  1880\n",
       "6            Ida      F    1472  1880\n",
       "7          Alice      F    1414  1880\n",
       "8         Bertha      F    1320  1880\n",
       "9          Sarah      F    1288  1880\n",
       "10         Annie      F    1258  1880\n",
       "11         Clara      F    1226  1880\n",
       "12          Ella      F    1156  1880\n",
       "13      Florence      F    1063  1880\n",
       "14          Cora      F    1045  1880\n",
       "15        Martha      F    1040  1880\n",
       "16         Laura      F    1012  1880\n",
       "17        Nellie      F     995  1880\n",
       "18         Grace      F     982  1880\n",
       "19        Carrie      F     949  1880\n",
       "20         Maude      F     858  1880\n",
       "21         Mabel      F     808  1880\n",
       "22        Bessie      F     794  1880\n",
       "23        Jennie      F     793  1880\n",
       "24      Gertrude      F     787  1880\n",
       "25         Julia      F     783  1880\n",
       "26        Hattie      F     769  1880\n",
       "27         Edith      F     768  1880\n",
       "28        Mattie      F     704  1880\n",
       "29          Rose      F     700  1880\n",
       "...          ...    ...     ...   ...\n",
       "36761     Rodger      M       5  1894\n",
       "36762      Rosco      M       5  1894\n",
       "36763  Sebastian      M       5  1894\n",
       "36764     Selmer      M       5  1894\n",
       "36765   Shedrick      M       5  1894\n",
       "36766    Shelley      M       5  1894\n",
       "36767        Sie      M       5  1894\n",
       "36768     Sonnie      M       5  1894\n",
       "36769     Sylvan      M       5  1894\n",
       "36770   Terrence      M       5  1894\n",
       "36771   Theadore      M       5  1894\n",
       "36772   Thompson      M       5  1894\n",
       "36773     Tucker      M       5  1894\n",
       "36774     Vannie      M       5  1894\n",
       "36775     Vernal      M       5  1894\n",
       "36776     Virgle      M       5  1894\n",
       "36777       Walt      M       5  1894\n",
       "36778    Waverly      M       5  1894\n",
       "36779     Waymon      M       5  1894\n",
       "36780       Wess      M       5  1894\n",
       "36781    Wheeler      M       5  1894\n",
       "36782       Whit      M       5  1894\n",
       "36783    Wilfrid      M       5  1894\n",
       "36784       Wirt      M       5  1894\n",
       "36785     Woodie      M       5  1894\n",
       "36786      Worth      M       5  1894\n",
       "36787     Xavier      M       5  1894\n",
       "36788     Yancey      M       5  1894\n",
       "36789      Yancy      M       5  1894\n",
       "36790      Young      M       5  1894\n",
       "\n",
       "[36791 rows x 4 columns]>"
      ]
     },
     "execution_count": 42,
     "metadata": {},
     "output_type": "execute_result"
    }
   ],
   "source": [
    "data=None\n",
    "data1=None\n",
    "\n",
    "#for i in range(1880,2011):\n",
    "for i in range(1880,1895):\n",
    "    data1 = pd.read_csv(r'.\\babynames\\yob{}.txt'.format(i), sep=\",\", header=None)\n",
    "    data1['Year']=i\n",
    "    data1.columns=[\"name\",\"gender\",\"number\",\"year\"]\n",
    "    data = pd.concat([data,data1], ignore_index=True)\n",
    "data.info\n",
    "#data1[(data1[\"Name\"].isin([\"Rene\",\"Mary\"]))]\n",
    "\n"
   ]
  },
  {
   "cell_type": "code",
   "execution_count": 13,
   "metadata": {
    "scrolled": true
   },
   "outputs": [
    {
     "data": {
      "text/plain": [
       "<bound method DataFrame.info of             name gender  number   year\n",
       "0           Mary      F    8012  18831\n",
       "1           Anna      F    3306  18831\n",
       "2           Emma      F    2367  18831\n",
       "3      Elizabeth      F    2255  18831\n",
       "4         Minnie      F    2035  18831\n",
       "5       Margaret      F    1881  18831\n",
       "6         Bertha      F    1681  18831\n",
       "7            Ida      F    1634  18831\n",
       "8          Annie      F    1589  18831\n",
       "9          Clara      F    1548  18831\n",
       "10         Alice      F    1488  18831\n",
       "11         Sarah      F    1359  18831\n",
       "12         Grace      F    1307  18831\n",
       "13      Florence      F    1298  18831\n",
       "14        Martha      F    1255  18831\n",
       "15          Ella      F    1251  18831\n",
       "16        Nellie      F    1246  18831\n",
       "17        Bessie      F    1241  18831\n",
       "18         Laura      F    1183  18831\n",
       "19         Ethel      F    1132  18831\n",
       "20        Carrie      F    1108  18831\n",
       "21         Maude      F    1096  18831\n",
       "22         Mabel      F    1086  18831\n",
       "23          Cora      F    1081  18831\n",
       "24      Gertrude      F     923  18831\n",
       "25       Lillian      F     907  18831\n",
       "26        Jennie      F     904  18831\n",
       "27        Hattie      F     895  18831\n",
       "28         Pearl      F     886  18831\n",
       "29        Mattie      F     883  18831\n",
       "...          ...    ...     ...    ...\n",
       "4351        Rome      M       5  18832\n",
       "4352        Rose      M       5  18832\n",
       "4353     Roswell      M       5  18832\n",
       "4354     Rowland      M       5  18832\n",
       "4355      Russel      M       5  18832\n",
       "4356      Sammie      M       5  18832\n",
       "4357      Samual      M       5  18832\n",
       "4358      Sebron      M       5  18832\n",
       "4359      Severt      M       5  18832\n",
       "4360       Stacy      M       5  18832\n",
       "4361     Stanton      M       5  18832\n",
       "4362     Teodoro      M       5  18832\n",
       "4363     Theodor      M       5  18832\n",
       "4364  Theophilus      M       5  18832\n",
       "4365        Thos      M       5  18832\n",
       "4366      Tilden      M       5  18832\n",
       "4367         Toy      M       5  18832\n",
       "4368      Tucker      M       5  18832\n",
       "4369       Tyler      M       5  18832\n",
       "4370        Vere      M       5  18832\n",
       "4371      Volney      M       5  18832\n",
       "4372     Waverly      M       5  18832\n",
       "4373     Wayland      M       5  18832\n",
       "4374       Wells      M       5  18832\n",
       "4375      Weston      M       5  18832\n",
       "4376    Williard      M       5  18832\n",
       "4377       Willy      M       5  18832\n",
       "4378     Winston      M       5  18832\n",
       "4379        York      M       5  18832\n",
       "4380   Zachariah      M       5  18832\n",
       "\n",
       "[4381 rows x 4 columns]>"
      ]
     },
     "execution_count": 13,
     "metadata": {},
     "output_type": "execute_result"
    }
   ],
   "source": [
    "data1=None\n",
    "data2=None\n",
    "data3=None\n",
    "i=18831\n",
    "data1 = pd.read_csv(r'.\\babynames\\yob{}.txt'.format(i), sep=\",\", header=None)\n",
    "data1['Year']=i\n",
    "data1.columns=[\"name\",\"gender\",\"number\",\"year\"]\n",
    "i=18832\n",
    "data2 = pd.read_csv(r'.\\babynames\\yob{}.txt'.format(i), sep=\",\", header=None)\n",
    "data2['Year']=i\n",
    "data2.columns=[\"name\",\"gender\",\"number\",\"year\"]\n",
    "data3=pd.concat([data1,data2], ignore_index=True)\n",
    "#data3[(data1[\"Name\"].isin([\"Rene\",\"Mary\"]))]\n",
    "data3.info"
   ]
  },
  {
   "cell_type": "code",
   "execution_count": 38,
   "metadata": {},
   "outputs": [],
   "source": [
    "###Рождаемость по полам"
   ]
  },
  {
   "cell_type": "code",
   "execution_count": 49,
   "metadata": {},
   "outputs": [
    {
     "data": {
      "text/plain": [
       "<matplotlib.axes._subplots.AxesSubplot at 0xc54eef0>"
      ]
     },
     "execution_count": 49,
     "metadata": {},
     "output_type": "execute_result"
    },
    {
     "data": {
      "image/png": "[encoded data removed]",
      "text/plain": [
       "<Figure size 432x288 with 1 Axes>"
      ]
     },
     "metadata": {},
     "output_type": "display_data"
    },
    {
     "data": {
      "image/png": "[encoded data removed]",
      "text/plain": [
       "<Figure size 432x288 with 1 Axes>"
      ]
     },
     "metadata": {},
     "output_type": "display_data"
    }
   ],
   "source": [
    "data[(data['gender']=='F')].groupby(by = [\"gender\",\"year\"])[['number']].agg(np.sum).plot()\n",
    "data[(data['gender']=='M')].groupby(by = [\"gender\",\"year\"])[['number']].agg(np.sum).plot()"
   ]
  },
  {
   "cell_type": "code",
   "execution_count": 52,
   "metadata": {},
   "outputs": [
    {
     "data": {
      "text/plain": [
       "<matplotlib.axes._subplots.AxesSubplot at 0xc691048>"
      ]
     },
     "execution_count": 52,
     "metadata": {},
     "output_type": "execute_result"
    },
    {
     "data": {
      "image/png": "[encoded data removed]",
      "text/plain": [
       "<Figure size 432x288 with 1 Axes>"
      ]
     },
     "metadata": {},
     "output_type": "display_data"
    }
   ],
   "source": [
    "pd.crosstab(data['year'],data['gender']).plot()"
   ]
  }
 ],
 "metadata": {
  "kernelspec": {
   "display_name": "Python 3",
   "language": "python",
   "name": "python3"
  },
  "language_info": {
   "codemirror_mode": {
    "name": "ipython",
    "version": 3
   },
   "file_extension": ".py",
   "mimetype": "text/x-python",
   "name": "python",
   "nbconvert_exporter": "python",
   "pygments_lexer": "ipython3",
   "version": "3.6.5"
  }
 },
 "nbformat": 4,
 "nbformat_minor": 2
}
